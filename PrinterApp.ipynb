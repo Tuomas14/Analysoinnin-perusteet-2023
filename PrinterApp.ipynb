{
 "cells": [
  {
   "cell_type": "code",
   "execution_count": 33,
   "metadata": {},
   "outputs": [
    {
     "name": "stdout",
     "output_type": "stream",
     "text": [
      "Printer App\n",
      "This app is made by: Tuomas\n",
      "7.0\n",
      "The value of number1 is  7.0\n",
      "The value of number2 is  14.0\n",
      "98.0\n",
      "21.0\n",
      "0.5\n",
      "-7.0\n"
     ]
    }
   ],
   "source": [
    "creator = \"Tuomas\"\n",
    "number1 = 7.0\n",
    "number2 = 14.0\n",
    "multiplication=(number1*number2)\n",
    "addition=(number1+number2)\n",
    "division=(number1/number2)\n",
    "subtraction=(number1-number2)\n",
    "\n",
    "print(\"Printer App\")\n",
    "print(\"This app is made by:\" , creator)\n",
    "print(number1) ##Done\n",
    "print(\"The value of number1 is \" , number1)\n",
    "print(\"The value of number2 is \" , number2)\n",
    "print(multiplication)\n",
    "print(addition)\n",
    "print(division)\n",
    "print(subtraction)"
   ]
  }
 ],
 "metadata": {
  "kernelspec": {
   "display_name": "Python 3",
   "language": "python",
   "name": "python3"
  },
  "language_info": {
   "codemirror_mode": {
    "name": "ipython",
    "version": 3
   },
   "file_extension": ".py",
   "mimetype": "text/x-python",
   "name": "python",
   "nbconvert_exporter": "python",
   "pygments_lexer": "ipython3",
   "version": "3.11.6"
  }
 },
 "nbformat": 4,
 "nbformat_minor": 2
}
