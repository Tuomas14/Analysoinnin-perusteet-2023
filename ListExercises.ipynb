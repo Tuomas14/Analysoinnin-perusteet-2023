{
 "cells": [
  {
   "cell_type": "code",
   "execution_count": 23,
   "metadata": {},
   "outputs": [
    {
     "name": "stdout",
     "output_type": "stream",
     "text": [
      "['table', 'chair', 'shelf', 'Sofa']\n",
      "['table', 'chair']\n",
      "['table', 'chair']\n",
      "Sofa was found.\n"
     ]
    }
   ],
   "source": [
    "furniture_list = [\"table\", \"chair\", \"shelf\", \"Sofa\"]\n",
    "print(furniture_list)\n",
    "\n",
    "print(furniture_list[0:2])\n",
    "print(furniture_list[:2])\n",
    "\n",
    "for sofa in furniture_list:\n",
    "    if sofa == \"Sofa\":\n",
    "        print(\"Sofa was found.\")"
   ]
  },
  {
   "cell_type": "code",
   "execution_count": 24,
   "metadata": {},
   "outputs": [
    {
     "name": "stdout",
     "output_type": "stream",
     "text": [
      "Lista: \n",
      "[6, 1, 4, 4, 3]\n",
      "Summa: 18\n",
      "Suurin luku listassa: 6\n"
     ]
    }
   ],
   "source": [
    "from random import randint\n",
    "\n",
    "thrownDiceNumbers_list = []\n",
    "\n",
    "for _ in range(5):\n",
    "    random_number = randint(1,6)\n",
    "    thrownDiceNumbers_list.append(random_number)\n",
    "\n",
    "print(\"Lista: \")\n",
    "print(thrownDiceNumbers_list)\n",
    "\n",
    "kokonais_summa = sum(thrownDiceNumbers_list)\n",
    "print(\"Summa:\" ,kokonais_summa)\n",
    "\n",
    "suurin_luku = max(thrownDiceNumbers_list)\n",
    "print(\"Suurin luku listassa:\" ,suurin_luku)"
   ]
  }
 ],
 "metadata": {
  "kernelspec": {
   "display_name": "Python 3",
   "language": "python",
   "name": "python3"
  },
  "language_info": {
   "codemirror_mode": {
    "name": "ipython",
    "version": 3
   },
   "file_extension": ".py",
   "mimetype": "text/x-python",
   "name": "python",
   "nbconvert_exporter": "python",
   "pygments_lexer": "ipython3",
   "version": "3.11.6"
  }
 },
 "nbformat": 4,
 "nbformat_minor": 2
}
