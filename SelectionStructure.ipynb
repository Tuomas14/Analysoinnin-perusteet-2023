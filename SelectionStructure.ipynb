{
 "cells": [
  {
   "cell_type": "code",
   "execution_count": 5,
   "metadata": {},
   "outputs": [
    {
     "name": "stdout",
     "output_type": "stream",
     "text": [
      "Number1 is not equal to number2\n"
     ]
    }
   ],
   "source": [
    "number1 = 7\n",
    "number2 = 10\n",
    "\n",
    "if number1==number2:\n",
    "    print(\"Numbers are equal.\")\n",
    "\n",
    "if number1>number2:\n",
    "    print(\"Number1 is greater than number2.\")\n",
    "\n",
    "if number1>=number2:\n",
    "    print(\"Number1 is greater or equal to number2.\")\n",
    "\n",
    "if number1!=number2:\n",
    "    print(\"Number1 is not equal to number2\")"
   ]
  },
  {
   "cell_type": "code",
   "execution_count": 6,
   "metadata": {},
   "outputs": [
    {
     "name": "stdout",
     "output_type": "stream",
     "text": [
      "Number1 is greater than number 2 and number is 1 greater than number3\n",
      "Number1 is greater than number2\n"
     ]
    }
   ],
   "source": [
    "number1 = 100\n",
    "number2 = 10\n",
    "number3 = 20\n",
    "\n",
    "if number1==number2==number3:\n",
    "    print(\"All numbers are equal\")\n",
    "\n",
    "if number1==number2 or number2==number3:\n",
    "    print(\"Number1 and number2 are requal or number2 and number3 are equal\")\n",
    "\n",
    "if number1>number2 and number1>number3:\n",
    "    print(\"Number1 is greater than number 2 and number is 1 greater than number3\")\n",
    "\n",
    "if number1>number2:\n",
    "    print(\"Number1 is greater than number2\")\n",
    "elif number2>number3:\n",
    "    print(\"Number2 is greater than number3\")\n",
    "else:\n",
    "    print(\"None of the number pairs are equal.\")\n",
    "    "
   ]
  },
  {
   "cell_type": "code",
   "execution_count": 7,
   "metadata": {},
   "outputs": [
    {
     "name": "stdout",
     "output_type": "stream",
     "text": [
      "Name1 and name2 are not equal.\n",
      "None of the number pairs are equal.\n"
     ]
    }
   ],
   "source": [
    "name1 = \"Kyle\"\n",
    "name2 = \"Johnson\"\n",
    "name3 = \"Gerald\"\n",
    "\n",
    "if name1==name2:\n",
    "    print(\"Name1 and name2 are equal.\")\n",
    "\n",
    "if name1!=name2:\n",
    "    print(\"Name1 and name2 are not equal.\")\n",
    "\n",
    "if name1==name2:\n",
    "    print(\"Name1 and name2 are equal.\")\n",
    "elif name1==name3:\n",
    "    print(\"Name1 and name3 are equal.\")\n",
    "else:\n",
    "    print(\"None of the number pairs are equal.\")\n"
   ]
  }
 ],
 "metadata": {
  "kernelspec": {
   "display_name": "Python 3",
   "language": "python",
   "name": "python3"
  },
  "language_info": {
   "codemirror_mode": {
    "name": "ipython",
    "version": 3
   },
   "file_extension": ".py",
   "mimetype": "text/x-python",
   "name": "python",
   "nbconvert_exporter": "python",
   "pygments_lexer": "ipython3",
   "version": "3.11.6"
  }
 },
 "nbformat": 4,
 "nbformat_minor": 2
}
