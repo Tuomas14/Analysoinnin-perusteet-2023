{
 "cells": [
  {
   "cell_type": "code",
   "execution_count": 8,
   "metadata": {},
   "outputs": [
    {
     "name": "stdout",
     "output_type": "stream",
     "text": [
      "Väärin arvattu!\n",
      "Väärin arvattu!\n",
      "Oikein arvattu!\n"
     ]
    }
   ],
   "source": [
    "oikea_nimi = \"Alvar\"\n",
    "\n",
    "while True:\n",
    "    arvaus = input(\"Arvaa nimi: \")\n",
    "\n",
    "    if arvaus == oikea_nimi:\n",
    "        print(\"Oikein arvattu!\")\n",
    "        break\n",
    "    else:\n",
    "        print(\"Väärin arvattu!\")"
   ]
  }
 ],
 "metadata": {
  "kernelspec": {
   "display_name": "Python 3",
   "language": "python",
   "name": "python3"
  },
  "language_info": {
   "codemirror_mode": {
    "name": "ipython",
    "version": 3
   },
   "file_extension": ".py",
   "mimetype": "text/x-python",
   "name": "python",
   "nbconvert_exporter": "python",
   "pygments_lexer": "ipython3",
   "version": "3.11.6"
  }
 },
 "nbformat": 4,
 "nbformat_minor": 2
}
